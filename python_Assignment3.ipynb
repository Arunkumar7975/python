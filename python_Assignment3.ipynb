{
  "nbformat": 4,
  "nbformat_minor": 0,
  "metadata": {
    "colab": {
      "name": "Untitled4.ipynb",
      "provenance": [],
      "collapsed_sections": [],
      "authorship_tag": "ABX9TyMYG2NNYcUKqWyY/eafIVd9",
      "include_colab_link": true
    },
    "kernelspec": {
      "name": "python3",
      "display_name": "Python 3"
    }
  },
  "cells": [
    {
      "cell_type": "markdown",
      "metadata": {
        "id": "view-in-github",
        "colab_type": "text"
      },
      "source": [
        "<a href=\"https://colab.research.google.com/github/Arunkumar7975/python-/blob/master/python_Assignment3.ipynb\" target=\"_parent\"><img src=\"https://colab.research.google.com/assets/colab-badge.svg\" alt=\"Open In Colab\"/></a>"
      ]
    },
    {
      "cell_type": "markdown",
      "metadata": {
        "id": "L7hDTBXJRvtJ",
        "colab_type": "text"
      },
      "source": [
        "\n",
        "Take two input from users and check whether they are equal or not"
      ]
    },
    {
      "cell_type": "code",
      "metadata": {
        "id": "igImYEOkJPI-",
        "colab_type": "code",
        "colab": {
          "base_uri": "https://localhost:8080/",
          "height": 70
        },
        "outputId": "2060aecf-02a9-4965-8f1f-0a5d9afa2a38"
      },
      "source": [
        "a=int(input(\"enter the number\"))\n",
        "b=int(input(\"enter another number\"))\n",
        "if a==b:\n",
        "  print('they are equal')\n",
        "else:\n",
        "  print('they arent equal')"
      ],
      "execution_count": 1,
      "outputs": [
        {
          "output_type": "stream",
          "text": [
            "enter the number5\n",
            "enter another number5\n",
            "they are equal\n"
          ],
          "name": "stdout"
        }
      ]
    },
    {
      "cell_type": "markdown",
      "metadata": {
        "id": "DwuWsS-PRkz5",
        "colab_type": "text"
      },
      "source": [
        "2.\tTake 3 inputs from user and check :\n",
        "           all are equal\n",
        "           any of two are equal\n",
        "           ( use and or )\n"
      ]
    },
    {
      "cell_type": "code",
      "metadata": {
        "id": "RpCgxivsRZe-",
        "colab_type": "code",
        "colab": {
          "base_uri": "https://localhost:8080/",
          "height": 106
        },
        "outputId": "2981c990-83c5-457e-9622-6525cd8ab05f"
      },
      "source": [
        "x=int(input('Enter the First Number'))\n",
        "y=int(input('Enter the Second Number'))\n",
        "z=int(input('Enter the Third number'))\n",
        "all= x==y and y==z and z==x\n",
        "print(\"All are equal:\",all)\n",
        "anytwo= x==y or y==z or z==x\n",
        "print(\"Any of three are equal:\",anytwo)"
      ],
      "execution_count": 2,
      "outputs": [
        {
          "output_type": "stream",
          "text": [
            "Enter the First Number5\n",
            "Enter the Second Number6\n",
            "Enter the Third number5\n",
            "All are equal: False\n",
            "Any of three are equal: True\n"
          ],
          "name": "stdout"
        }
      ]
    },
    {
      "cell_type": "markdown",
      "metadata": {
        "id": "h_av01Z1PNT3",
        "colab_type": "text"
      },
      "source": [
        ""
      ]
    },
    {
      "cell_type": "markdown",
      "metadata": {
        "id": "WsIc28COT0nk",
        "colab_type": "text"
      },
      "source": [
        "3.\tTake two number and check whether the sum is greater than 5, less than 5 or equal to 5."
      ]
    },
    {
      "cell_type": "code",
      "metadata": {
        "id": "7YSCESEESvwM",
        "colab_type": "code",
        "colab": {
          "base_uri": "https://localhost:8080/",
          "height": 67
        },
        "outputId": "e8ee9c12-809f-463f-9c7c-9c997bf2b50a"
      },
      "source": [
        "x=int(input('Enter First Number'))\n",
        "y=int(input('Enter Second Number'))\n",
        "z=x+y\n",
        "if z>5:\n",
        " print(\"Sum Is Greater Than 5\")\n",
        "elif z<5:\n",
        "  print(\"Sum Is less than 5\")\n",
        "else:\n",
        "  print(\"Sum Is Equal To 5\")"
      ],
      "execution_count": 3,
      "outputs": [
        {
          "output_type": "stream",
          "text": [
            "Enter First Number9\n",
            "Enter Second Number5\n",
            "Sum Is Greater Than 5\n"
          ],
          "name": "stdout"
        }
      ]
    },
    {
      "cell_type": "markdown",
      "metadata": {
        "id": "mRa16NA1Pb48",
        "colab_type": "text"
      },
      "source": [
        ""
      ]
    },
    {
      "cell_type": "markdown",
      "metadata": {
        "id": "dn8LryNUWFHk",
        "colab_type": "text"
      },
      "source": [
        "4.\tSuppose passing marks of a subject is 35. Take input of marks from user and check whether it is greater than passing marks or not."
      ]
    },
    {
      "cell_type": "code",
      "metadata": {
        "id": "vGLtsVzMSwcz",
        "colab_type": "code",
        "colab": {
          "base_uri": "https://localhost:8080/",
          "height": 50
        },
        "outputId": "c3abb26d-7327-4ab9-d5be-eba21875e7e9"
      },
      "source": [
        "m=int(input('Enter Youre Marks'))\n",
        "if m>35:\n",
        "  print(\"You have passed\")\n",
        "else:\n",
        "    print(\"you have failed\")"
      ],
      "execution_count": 4,
      "outputs": [
        {
          "output_type": "stream",
          "text": [
            "Enter Youre Marks75\n",
            "You have passed\n"
          ],
          "name": "stdout"
        }
      ]
    },
    {
      "cell_type": "markdown",
      "metadata": {
        "id": "RNgOZbvpPl9v",
        "colab_type": "text"
      },
      "source": [
        ""
      ]
    },
    {
      "cell_type": "markdown",
      "metadata": {
        "id": "Gt7y19A8Z3tm",
        "colab_type": "text"
      },
      "source": [
        "5.\tWrite a Python function to find the Max of three numbers"
      ]
    },
    {
      "cell_type": "code",
      "metadata": {
        "id": "6WPS6sYXZ45U",
        "colab_type": "code",
        "colab": {
          "base_uri": "https://localhost:8080/",
          "height": 84
        },
        "outputId": "85c142e9-ea1c-4857-d102-f7781f2e68c1"
      },
      "source": [
        "x=int(input('Enter First Number'))\n",
        "y=int(input('Enter Second Number'))\n",
        "z=int(input('Enter Third Number'))\n",
        "if x>y:\n",
        "  if x>z:\n",
        "    print(\"X is Greatest\")\n",
        "  else:\n",
        "    print(\"Z is Greatest\")\n",
        "elif y>x:\n",
        "  if y>z:\n",
        "    print(\"Y is Greatest\")\n",
        "  else:\n",
        "    print(\"Z is Greatest\")   "
      ],
      "execution_count": 5,
      "outputs": [
        {
          "output_type": "stream",
          "text": [
            "Enter First Number7\n",
            "Enter Second Number5\n",
            "Enter Third Number9\n",
            "Z is Greatest\n"
          ],
          "name": "stdout"
        }
      ]
    }
  ]
}