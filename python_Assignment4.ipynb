{
  "nbformat": 4,
  "nbformat_minor": 0,
  "metadata": {
    "colab": {
      "name": "Untitled7.ipynb",
      "provenance": [],
      "authorship_tag": "ABX9TyMV/68Bz6qJt8Z9O2Y5QOTa",
      "include_colab_link": true
    },
    "kernelspec": {
      "name": "python3",
      "display_name": "Python 3"
    }
  },
  "cells": [
    {
      "cell_type": "markdown",
      "metadata": {
        "id": "view-in-github",
        "colab_type": "text"
      },
      "source": [
        "<a href=\"https://colab.research.google.com/github/Arunkumar7975/python-/blob/master/python_Assignment4.ipynb\" target=\"_parent\"><img src=\"https://colab.research.google.com/assets/colab-badge.svg\" alt=\"Open In Colab\"/></a>"
      ]
    },
    {
      "cell_type": "markdown",
      "metadata": {
        "id": "u4k0d9y8Mmg3",
        "colab_type": "text"
      },
      "source": [
        "Python function to find the Max of three numbers."
      ]
    },
    {
      "cell_type": "code",
      "metadata": {
        "id": "6WPS6sYXZ45U",
        "colab_type": "code",
        "colab": {
          "base_uri": "https://localhost:8080/",
          "height": 84
        },
        "outputId": "0ec62da2-6507-4aaf-f249-4b05845d20b9"
      },
      "source": [
        "x=int(input('Enter First Number'))\n",
        "y=int(input('Enter Second Number'))\n",
        "z=int(input('Enter Third Number'))\n",
        "if x>y:\n",
        "  if x>z:\n",
        "    print(\"X is Greatest\")\n",
        "  else:\n",
        "    print(\"Z is Greatest\")\n",
        "elif y>x:\n",
        "  if y>z:\n",
        "    print(\"Y is Greatest\")\n",
        "  else:\n",
        "    print(\"Z is Greatest\")   "
      ],
      "execution_count": 5,
      "outputs": [
        {
          "output_type": "stream",
          "text": [
            "Enter First Number9\n",
            "Enter Second Number54\n",
            "Enter Third Number4\n",
            "Y is Greatest\n"
          ],
          "name": "stdout"
        }
      ]
    },
    {
      "cell_type": "markdown",
      "metadata": {
        "id": "ijR-2OowNaHh",
        "colab_type": "text"
      },
      "source": [
        "2.\tWrite a Python program to reverse a string."
      ]
    },
    {
      "cell_type": "code",
      "metadata": {
        "id": "wALBgkIdNF0i",
        "colab_type": "code",
        "colab": {}
      },
      "source": [
        "def reverse(s): \n",
        "  str = \"\" \n",
        "  for i in s: \n",
        "    str = i + str\n",
        "  return str"
      ],
      "execution_count": 7,
      "outputs": []
    },
    {
      "cell_type": "code",
      "metadata": {
        "id": "QiG5OpAPNKvP",
        "colab_type": "code",
        "colab": {
          "base_uri": "https://localhost:8080/",
          "height": 50
        },
        "outputId": "f364be89-f0f3-4c03-94d0-195242c068c6"
      },
      "source": [
        "s = \"Karnataka\"\n",
        "  \n",
        "print (\"The original string  is : \",end=\"\") \n",
        "print (s) \n",
        "  \n",
        "print (\"The reversed string(using loops) is : \",end=\"\") \n",
        "print (reverse(s)) "
      ],
      "execution_count": 9,
      "outputs": [
        {
          "output_type": "stream",
          "text": [
            "The original string  is : Karnataka\n",
            "The reversed string(using loops) is : akatanraK\n"
          ],
          "name": "stdout"
        }
      ]
    },
    {
      "cell_type": "markdown",
      "metadata": {
        "id": "d5iibIntNh72",
        "colab_type": "text"
      },
      "source": [
        "3.\tWrite a Python function to check whether the number is prime or not"
      ]
    },
    {
      "cell_type": "code",
      "metadata": {
        "id": "cwdknQxbdfpQ",
        "colab_type": "code",
        "colab": {
          "base_uri": "https://localhost:8080/",
          "height": 50
        },
        "outputId": "630ebe3a-2fe7-4b8b-c4b9-8eddf7c39421"
      },
      "source": [
        "num = int(input(\"Enter a number: \"))  \n",
        "  \n",
        "if num > 1:  \n",
        "   for i in range(2,num):  \n",
        "       if (num % i) == 0:  \n",
        "           print(num,\"is not a prime number\")  \n",
        "           print(i,\"times\",num//i,\"is\",num)  \n",
        "           break  \n",
        "   else:  \n",
        "       print(num,\"is a prime number\")  \n",
        "         \n",
        "else:  \n",
        "   print(num,\"is not a prime number\")"
      ],
      "execution_count": 11,
      "outputs": [
        {
          "output_type": "stream",
          "text": [
            "Enter a number: 5\n",
            "5 is a prime number\n"
          ],
          "name": "stdout"
        }
      ]
    },
    {
      "cell_type": "markdown",
      "metadata": {
        "id": "EgAbGzk4Us2s",
        "colab_type": "text"
      },
      "source": [
        "sum of squares of first n natural numbers"
      ]
    },
    {
      "cell_type": "code",
      "metadata": {
        "id": "UnTvcViTNkVO",
        "colab_type": "code",
        "colab": {}
      },
      "source": [
        "def squaresum(n) : \n",
        "  sm = 0\n",
        "  for i in range(1, n+1) : \n",
        "   sm=sm+(i * i) \n",
        "  return sm\n",
        "  "
      ],
      "execution_count": 2,
      "outputs": []
    },
    {
      "cell_type": "code",
      "metadata": {
        "id": "0h53dy6_hfmf",
        "colab_type": "code",
        "colab": {
          "base_uri": "https://localhost:8080/",
          "height": 50
        },
        "outputId": "992274fa-7eda-49a8-cb3d-ba65374ca94e"
      },
      "source": [
        "n=int(input(\"Enter the Number\"))\n",
        "print(\"The Square is\",squaresum(n))"
      ],
      "execution_count": 3,
      "outputs": [
        {
          "output_type": "stream",
          "text": [
            "Enter the Number5\n",
            "The Square is 55\n"
          ],
          "name": "stdout"
        }
      ]
    }
  ]
}