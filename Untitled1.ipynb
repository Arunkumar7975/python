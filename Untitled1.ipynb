{
  "nbformat": 4,
  "nbformat_minor": 0,
  "metadata": {
    "colab": {
      "name": "Untitled1.ipynb",
      "provenance": [],
      "authorship_tag": "ABX9TyONPa/nVmLIfg4rXxWohrmd",
      "include_colab_link": true
    },
    "kernelspec": {
      "name": "python3",
      "display_name": "Python 3"
    }
  },
  "cells": [
    {
      "cell_type": "markdown",
      "metadata": {
        "id": "view-in-github",
        "colab_type": "text"
      },
      "source": [
        "<a href=\"https://colab.research.google.com/github/Arunkumar7975/python-/blob/master/Untitled1.ipynb\" target=\"_parent\"><img src=\"https://colab.research.google.com/assets/colab-badge.svg\" alt=\"Open In Colab\"/></a>"
      ]
    },
    {
      "cell_type": "markdown",
      "metadata": {
        "id": "PPCNi0ZvL_mB",
        "colab_type": "text"
      },
      "source": [
        "simple calculator \n"
      ]
    },
    {
      "cell_type": "code",
      "metadata": {
        "id": "wmVgM_rRMLvr",
        "colab_type": "code",
        "colab": {
          "base_uri": "https://localhost:8080/",
          "height": 151
        },
        "outputId": "0686c8bf-457d-44ec-ea9a-bca9d6c67c0d"
      },
      "source": [
        "a=int(input('first value'))\n",
        "b=int(input('second value'))\n",
        "print('The sum is:',a+b)\n",
        "print('The difference is:',a-b)\n",
        "print('The product is:',a*b)\n",
        "print('The quotient is:',a/b)\n",
        "print('The remainder is:',a//b)\n",
        "print('The power is:',a**b)\n"
      ],
      "execution_count": null,
      "outputs": [
        {
          "output_type": "stream",
          "text": [
            "first value5\n",
            "second value9\n",
            "The sum is: 14\n",
            "The difference is: -4\n",
            "The product is: 45\n",
            "The quotient is: 0.5555555555555556\n",
            "The remainder is: 0\n",
            "The power is: 1953125\n"
          ],
          "name": "stdout"
        }
      ]
    },
    {
      "cell_type": "markdown",
      "metadata": {
        "id": "_ajsyyeoOfr8",
        "colab_type": "text"
      },
      "source": [
        "Simple intrest"
      ]
    },
    {
      "cell_type": "code",
      "metadata": {
        "id": "iaV4y1CiOl7p",
        "colab_type": "code",
        "colab": {
          "base_uri": "https://localhost:8080/",
          "height": 84
        },
        "outputId": "c58f8982-c9ae-4390-f405-1d70dc7c37f7"
      },
      "source": [
        "p=float(input('enter principle amount:'))\n",
        "r=float(input('enter rate:'))\n",
        "t=float(input('enter time period:'))\n",
        "x=((p*r*t)/100)\n",
        "print('The simple intrest is:',x)"
      ],
      "execution_count": null,
      "outputs": [
        {
          "output_type": "stream",
          "text": [
            "enter principle amount:8\n",
            "enter rate:2\n",
            "enter time period:4\n",
            "The simple intrest is: 0.64\n"
          ],
          "name": "stdout"
        }
      ]
    },
    {
      "cell_type": "markdown",
      "metadata": {
        "id": "3h6G9c8UQF13",
        "colab_type": "text"
      },
      "source": [
        "Area of circle"
      ]
    },
    {
      "cell_type": "code",
      "metadata": {
        "id": "JQ3Wvp6HQJoU",
        "colab_type": "code",
        "colab": {}
      },
      "source": [
        ""
      ],
      "execution_count": null,
      "outputs": []
    },
    {
      "cell_type": "code",
      "metadata": {
        "id": "d6Gw6KLsDUXl",
        "colab_type": "code",
        "colab": {
          "base_uri": "https://localhost:8080/",
          "height": 50
        },
        "outputId": "2b2d8146-6bc7-442b-b879-4f8955f6de9b"
      },
      "source": [
        "pi=3.142\n",
        "r=float(input('Enter the Radius:'))\n",
        "Area=pi*r*r\n",
        "print(\"The Area of the Circle is:\",Area)"
      ],
      "execution_count": null,
      "outputs": [
        {
          "output_type": "stream",
          "text": [
            "Enter the Radius:5\n",
            "The Area of the Circle is: 78.55\n"
          ],
          "name": "stdout"
        }
      ]
    },
    {
      "cell_type": "markdown",
      "metadata": {
        "id": "b1goMc9tQofi",
        "colab_type": "text"
      },
      "source": [
        "Area of Triangle"
      ]
    },
    {
      "cell_type": "code",
      "metadata": {
        "id": "q8KRJ9_HQvFj",
        "colab_type": "code",
        "colab": {}
      },
      "source": [
        ""
      ],
      "execution_count": null,
      "outputs": []
    },
    {
      "cell_type": "code",
      "metadata": {
        "id": "brH4lfBOEOXj",
        "colab_type": "code",
        "colab": {
          "base_uri": "https://localhost:8080/",
          "height": 84
        },
        "outputId": "13363301-7c09-4f31-b044-f01213f6bdc4"
      },
      "source": [
        "a=float(input('Enter First side:'))\n",
        "b=float(input('Enter Second side:'))\n",
        "c=float(input('Enter Third side:'))\n",
        "s = (a + b + c) / 2\n",
        "area = (s*(s-a)*(s-b)*(s-c)) ** (0.5)\n",
        "print(\"The area of the Triangle is:\",area)"
      ],
      "execution_count": null,
      "outputs": [
        {
          "output_type": "stream",
          "text": [
            "Enter First side:8\n",
            "Enter Second side:6\n",
            "Enter Third side:4\n",
            "The area of the Triangle is: 11.61895003862225\n"
          ],
          "name": "stdout"
        }
      ]
    },
    {
      "cell_type": "code",
      "metadata": {
        "id": "azKq5PaKRG0f",
        "colab_type": "code",
        "colab": {}
      },
      "source": [
        "Temperature in celsius to Fahrenheit"
      ],
      "execution_count": null,
      "outputs": []
    },
    {
      "cell_type": "code",
      "metadata": {
        "id": "1E2Dx5GBG--4",
        "colab_type": "code",
        "colab": {
          "base_uri": "https://localhost:8080/",
          "height": 50
        },
        "outputId": "9345dadc-2c76-4be8-ccb5-9b84a9e062f7"
      },
      "source": [
        "celsius = float(input('Enter temperature in Celsius:'))\n",
        "fahrenheit=(celsius*1.8)+32\n",
        "print(\"The Fahrenheit is:\",fahrenheit)"
      ],
      "execution_count": null,
      "outputs": [
        {
          "output_type": "stream",
          "text": [
            "Enter temperature in Celsius:75\n",
            "The Fahrenheit is: 167.0\n"
          ],
          "name": "stdout"
        }
      ]
    },
    {
      "cell_type": "markdown",
      "metadata": {
        "id": "CxRFmlBNRf9j",
        "colab_type": "text"
      },
      "source": [
        "Area of Rectangle"
      ]
    },
    {
      "cell_type": "code",
      "metadata": {
        "id": "AFveIk0yIebl",
        "colab_type": "code",
        "colab": {
          "base_uri": "https://localhost:8080/",
          "height": 67
        },
        "outputId": "c9abc4cc-1694-4f34-a610-7f970a5ed3ad"
      },
      "source": [
        "length=int(input('Enter the length of Rectangle:'))\n",
        "breadth=int(input('Enter the breadth of Rectangle:'))\n",
        "Area=length*breadth\n",
        "print(\"The Area of a Rectangle is:\",Area)"
      ],
      "execution_count": null,
      "outputs": [
        {
          "output_type": "stream",
          "text": [
            "Enter length of Rectangle:8\n",
            "Enter breadth of Rectangle:5\n",
            "The Area of a Rectangle is: 40\n"
          ],
          "name": "stdout"
        }
      ]
    },
    {
      "cell_type": "markdown",
      "metadata": {
        "id": "RpXwqQqPR3Ky",
        "colab_type": "text"
      },
      "source": [
        "perimeter of square"
      ]
    },
    {
      "cell_type": "code",
      "metadata": {
        "id": "w5HKKPB8JHlK",
        "colab_type": "code",
        "colab": {
          "base_uri": "https://localhost:8080/",
          "height": 50
        },
        "outputId": "defe5b50-b0a9-4ff9-b918-ebd99ec5f0a0"
      },
      "source": [
        "side=int(input('Enter the side of the square:'))\n",
        "perimeter=4*side\n",
        "print(\"The perimeter of Square is:\",perimeter)"
      ],
      "execution_count": null,
      "outputs": [
        {
          "output_type": "stream",
          "text": [
            "Enter the side of the square:4\n",
            "The perimeter of Square is: 16\n"
          ],
          "name": "stdout"
        }
      ]
    },
    {
      "cell_type": "markdown",
      "metadata": {
        "id": "VuHqF3IDST2J",
        "colab_type": "text"
      },
      "source": [
        "Circumference of circle"
      ]
    },
    {
      "cell_type": "code",
      "metadata": {
        "id": "xZfjRImyKjiA",
        "colab_type": "code",
        "colab": {
          "base_uri": "https://localhost:8080/",
          "height": 50
        },
        "outputId": "2b290dce-004f-4b33-f57f-b17d069e3581"
      },
      "source": [
        "pi=3.14\n",
        "radius=float(input('Enter the Radius:'))\n",
        "Circum=2*pi*radius\n",
        "print(\"The Circumference of the circle is:\",Circum)"
      ],
      "execution_count": null,
      "outputs": [
        {
          "output_type": "stream",
          "text": [
            "Enter the Radius:6\n",
            "The Circumference of the circle is: 37.68\n"
          ],
          "name": "stdout"
        }
      ]
    },
    {
      "cell_type": "markdown",
      "metadata": {
        "id": "1nIK8LItSlxf",
        "colab_type": "text"
      },
      "source": [
        "swap two numbers"
      ]
    },
    {
      "cell_type": "code",
      "metadata": {
        "id": "FQXQ9D87LHiQ",
        "colab_type": "code",
        "colab": {
          "base_uri": "https://localhost:8080/",
          "height": 84
        },
        "outputId": "86b45b3c-08eb-4274-d7a6-6a3ce19fd1b2"
      },
      "source": [
        "a=int(input('Enter the First number'))\n",
        "b=int(input('Enter the number to be swapped'))\n",
        "c=a\n",
        "a=b\n",
        "b=c\n",
        "print(\"The value of a after swapping\",a)\n",
        "print(\"The Value of b after swapping\",b)"
      ],
      "execution_count": null,
      "outputs": [
        {
          "output_type": "stream",
          "text": [
            "Enter the First number12\n",
            "Enter the number to be swapped15\n",
            "The value of a after swapping 15\n",
            "The Value of b after swapping 12\n"
          ],
          "name": "stdout"
        }
      ]
    }
  ]
}